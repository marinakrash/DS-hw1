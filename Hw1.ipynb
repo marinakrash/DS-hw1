{
  "nbformat": 4,
  "nbformat_minor": 0,
  "metadata": {
    "colab": {
      "provenance": []
    },
    "kernelspec": {
      "name": "python3",
      "display_name": "Python 3"
    },
    "language_info": {
      "name": "python"
    }
  },
  "cells": [
    {
      "cell_type": "markdown",
      "source": [
        "Створіть одновимірний масив (вектор) з першими 10-ма натуральними числами та виведіть його значення."
      ],
      "metadata": {
        "id": "VIRrTfpEsoJn"
      }
    },
    {
      "cell_type": "code",
      "execution_count": 1,
      "metadata": {
        "colab": {
          "base_uri": "https://localhost:8080/"
        },
        "id": "dIQL_Y8usnLZ",
        "outputId": "b2f300f1-c67d-41e5-f1d1-523128e99d2c"
      },
      "outputs": [
        {
          "output_type": "stream",
          "name": "stdout",
          "text": [
            "[1 2 3 4 5 6 7 8 9]\n"
          ]
        }
      ],
      "source": [
        "import numpy as np\n",
        "a = np.arange(1, 10)\n",
        "print(a)"
      ]
    },
    {
      "cell_type": "markdown",
      "source": [
        "2 Створіть двовимірний масив (матрицю) розміром 3x3, заповніть його нулями та виведіть його значення."
      ],
      "metadata": {
        "id": "3h7tQPlJs7GX"
      }
    },
    {
      "cell_type": "code",
      "source": [
        "b = np.zeros((3, 3), dtype=int)\n",
        "print(b)"
      ],
      "metadata": {
        "colab": {
          "base_uri": "https://localhost:8080/"
        },
        "id": "xwmzksxls-xi",
        "outputId": "f814ca48-77c7-429e-d417-3aa6b88ac165"
      },
      "execution_count": 2,
      "outputs": [
        {
          "output_type": "stream",
          "name": "stdout",
          "text": [
            "[[0 0 0]\n",
            " [0 0 0]\n",
            " [0 0 0]]\n"
          ]
        }
      ]
    },
    {
      "cell_type": "markdown",
      "source": [
        "3 творіть масив розміром 5x5, заповніть його випадковими цілими числами в діапазоні від 1 до 10 та виведіть його значення."
      ],
      "metadata": {
        "id": "AC2JJLGXtCwf"
      }
    },
    {
      "cell_type": "code",
      "source": [
        "rng = np.random.default_rng()\n",
        "c = rng.integers(low=1, high=11, size=(5, 5))\n",
        "print(c)"
      ],
      "metadata": {
        "colab": {
          "base_uri": "https://localhost:8080/"
        },
        "id": "SzPMxHF5tGQl",
        "outputId": "4a5fca85-c599-471c-f2dc-ccfa445fe7d4"
      },
      "execution_count": 3,
      "outputs": [
        {
          "output_type": "stream",
          "name": "stdout",
          "text": [
            "[[ 2  4  1  9  4]\n",
            " [ 2  3  2  2  5]\n",
            " [ 2 10  7  3  8]\n",
            " [ 9  2  6  2  1]\n",
            " [ 2 10  3  7  4]]\n"
          ]
        }
      ]
    },
    {
      "cell_type": "markdown",
      "source": [
        "4 Створіть масив розміром 4x4, заповніть його випадковими дійсними числами в діапазоні від 0 до 1 та виведіть його значення."
      ],
      "metadata": {
        "id": "mEV0ZhLGtLG3"
      }
    },
    {
      "cell_type": "code",
      "source": [
        "rng = np.random.default_rng()\n",
        "d = rng.random(size=(4, 4))\n",
        "print(d)"
      ],
      "metadata": {
        "colab": {
          "base_uri": "https://localhost:8080/"
        },
        "id": "JpOgVBrQtLfs",
        "outputId": "e65b2adb-f018-470d-9242-cd99972ea517"
      },
      "execution_count": 4,
      "outputs": [
        {
          "output_type": "stream",
          "name": "stdout",
          "text": [
            "[[0.52528999 0.81877877 0.71378291 0.65621218]\n",
            " [0.03441809 0.68447736 0.03155857 0.87599974]\n",
            " [0.25179722 0.38150994 0.41010587 0.69875801]\n",
            " [0.89649894 0.79246204 0.09338547 0.07822789]]\n"
          ]
        }
      ]
    },
    {
      "cell_type": "markdown",
      "source": [
        "5 Створіть два одновимірних масиви розміром 5, заповніть їх випадковими цілими числами в діапазоні від 1 до 10 та виконайте на них поелементні операції додавання, віднімання та множення."
      ],
      "metadata": {
        "id": "lNcjGsxptLrR"
      }
    },
    {
      "cell_type": "code",
      "source": [
        "rng = np.random.default_rng()\n",
        "e = rng.integers(11, size=(5))\n",
        "f = rng.integers(11, size=(5))\n",
        "print(e)\n",
        "print(f)\n",
        "sum = e + f\n",
        "print(f'сумма {sum}')\n",
        "dif = e - f\n",
        "print(f'різниця {dif}')\n",
        "mul = e * f\n",
        "print(f'перемноження елементів {mul}')"
      ],
      "metadata": {
        "colab": {
          "base_uri": "https://localhost:8080/"
        },
        "id": "p-SbaLVctL76",
        "outputId": "73a43ac9-aa96-4889-a425-4cb6ad95ad3d"
      },
      "execution_count": 5,
      "outputs": [
        {
          "output_type": "stream",
          "name": "stdout",
          "text": [
            "[1 6 4 3 4]\n",
            "[7 8 8 3 3]\n",
            "сумма [ 8 14 12  6  7]\n",
            "різниця [-6 -2 -4  0  1]\n",
            "перемноження елементів [ 7 48 32  9 12]\n"
          ]
        }
      ]
    },
    {
      "cell_type": "markdown",
      "source": [
        "6 Створіть два вектори розміром 7, заповніть довільними числами та знайдіть їх скалярний добуток."
      ],
      "metadata": {
        "id": "cmsHljjMtMJt"
      }
    },
    {
      "cell_type": "code",
      "source": [
        "rng = np.random.default_rng()\n",
        "g = rng.integers(5, size=(7))\n",
        "h = rng.integers(5, size=(7))\n",
        "print(f'g {g}')\n",
        "print(f'h {h}')\n",
        "gh = np.dot(g, h)\n",
        "print(f'скалярний добуток {gh}')"
      ],
      "metadata": {
        "colab": {
          "base_uri": "https://localhost:8080/"
        },
        "id": "Rf_5CiEStMgK",
        "outputId": "7522d8dd-0f6f-4519-df68-33697e100cc9"
      },
      "execution_count": 6,
      "outputs": [
        {
          "output_type": "stream",
          "name": "stdout",
          "text": [
            "g [1 4 0 1 0 0 4]\n",
            "h [1 0 1 0 2 1 0]\n",
            "скалярний добуток 1\n"
          ]
        }
      ]
    },
    {
      "cell_type": "markdown",
      "source": [
        "7 Створіть дві матриці розміром 2x2 та 2x3, заповніть їх випадковими цілими числами в діапазоні від 1 до 10 та перемножте їх між собою."
      ],
      "metadata": {
        "id": "Fym5LjAZtMzk"
      }
    },
    {
      "cell_type": "code",
      "source": [
        "rng = np.random.default_rng()\n",
        "i = rng.integers(low=1, high=11, size=(2, 2))\n",
        "j = rng.integers(low=1, high=11, size=(2, 3))\n",
        "print(i)\n",
        "print(j)\n",
        "ij = np.dot(i, j)\n",
        "print(f'перемножені матриці {ij}')"
      ],
      "metadata": {
        "colab": {
          "base_uri": "https://localhost:8080/"
        },
        "id": "GLV11WNAtNWH",
        "outputId": "037a215d-d472-4e0e-b5a0-9dd660353e10"
      },
      "execution_count": 7,
      "outputs": [
        {
          "output_type": "stream",
          "name": "stdout",
          "text": [
            "[[9 3]\n",
            " [1 4]]\n",
            "[[ 1  5  5]\n",
            " [10  6  5]]\n",
            "перемножені матриці [[39 63 60]\n",
            " [41 29 25]]\n"
          ]
        }
      ]
    },
    {
      "cell_type": "markdown",
      "source": [
        "8 Створіть матрицю розміром 3x3, заповніть її випадковими цілими числами в діапазоні від 1 до 10 та знайдіть її обернену матрицю."
      ],
      "metadata": {
        "id": "iI_3mdZYuImf"
      }
    },
    {
      "cell_type": "code",
      "source": [
        "rng = np.random.default_rng()\n",
        "k = rng.integers(low=1, high=11, size=(3, 3))\n",
        "print(f'звичайна {k}')\n",
        "print(f' обернена {np.linalg.inv(k)}')"
      ],
      "metadata": {
        "colab": {
          "base_uri": "https://localhost:8080/"
        },
        "id": "B2gipHvcuIxK",
        "outputId": "47c83d12-feff-4fde-a28d-916bb62d4925"
      },
      "execution_count": 8,
      "outputs": [
        {
          "output_type": "stream",
          "name": "stdout",
          "text": [
            "звичайна [[ 9  9  3]\n",
            " [ 6 10 10]\n",
            " [ 1  5  4]]\n",
            " обернена [[ 0.06410256  0.13461538 -0.38461538]\n",
            " [ 0.08974359 -0.21153846  0.46153846]\n",
            " [-0.12820513  0.23076923 -0.23076923]]\n"
          ]
        }
      ]
    },
    {
      "cell_type": "markdown",
      "source": [
        "9 Створіть матрицю розміром 4x4, заповніть її випадковими дійсними числами в діапазоні від 0 до 1 та транспонуйте її."
      ],
      "metadata": {
        "id": "CjWk1lnUuI5g"
      }
    },
    {
      "cell_type": "code",
      "source": [
        "rng = np.random.default_rng()\n",
        "l = rng.random(size=(4, 4))\n",
        "lt = l.T\n",
        "print(f'звичайна {l}')\n",
        "print(f'транспонована {lt}')"
      ],
      "metadata": {
        "colab": {
          "base_uri": "https://localhost:8080/"
        },
        "id": "yYZwSkGTuJCw",
        "outputId": "3e12ea6b-bd38-4b3f-a829-02970dc2501f"
      },
      "execution_count": 9,
      "outputs": [
        {
          "output_type": "stream",
          "name": "stdout",
          "text": [
            "звичайна [[0.29619515 0.55347917 0.21943692 0.73050168]\n",
            " [0.9800448  0.29694267 0.7601368  0.84669098]\n",
            " [0.17258836 0.76796194 0.56847019 0.67007494]\n",
            " [0.40706421 0.07845788 0.93546928 0.77494093]]\n",
            "транспонована [[0.29619515 0.9800448  0.17258836 0.40706421]\n",
            " [0.55347917 0.29694267 0.76796194 0.07845788]\n",
            " [0.21943692 0.7601368  0.56847019 0.93546928]\n",
            " [0.73050168 0.84669098 0.67007494 0.77494093]]\n"
          ]
        }
      ]
    },
    {
      "cell_type": "markdown",
      "source": [
        "10 Створіть матрицю розміром 3x4 та вектор розміром 4, заповніть їх випадковими цілими числами в діапазоні від 1 до 10 та перемножте матрицю на вектор."
      ],
      "metadata": {
        "id": "Hw1WBAwwuJL6"
      }
    },
    {
      "cell_type": "code",
      "source": [
        "rng = np.random.default_rng()\n",
        "m = rng.integers(low=1, high=11, size=(4))\n",
        "n = rng.integers(low=1, high=11, size=(3, 4))\n",
        "mn = n.dot(m)\n",
        "print(m)\n",
        "print(n)\n",
        "print(f'перемножені матриця на вектор {mn}')"
      ],
      "metadata": {
        "colab": {
          "base_uri": "https://localhost:8080/"
        },
        "id": "jDkgje0UuJVI",
        "outputId": "13ec5b67-6b86-4346-ee38-37adc9ba1949"
      },
      "execution_count": 10,
      "outputs": [
        {
          "output_type": "stream",
          "name": "stdout",
          "text": [
            "[5 7 4 3]\n",
            "[[4 7 7 7]\n",
            " [3 3 7 9]\n",
            " [8 6 8 2]]\n",
            "перемножені матриця на вектор [118  91 120]\n"
          ]
        }
      ]
    },
    {
      "cell_type": "markdown",
      "source": [
        "11 Створіть матрицю розміром 2x3 та вектор розміром 3, заповніть їх випадковими дійсними числами в діапазоні від 0 до 1 та перемножте матрицю на вектор."
      ],
      "metadata": {
        "id": "XnwB0aHEuJjq"
      }
    },
    {
      "cell_type": "code",
      "source": [
        "rng = np.random.default_rng()\n",
        "o = rng.random(size=(3))\n",
        "p = rng.random(size=(2, 3))\n",
        "op = p.dot(o)\n",
        "print(o)\n",
        "print(p)\n",
        "print(f'перемножені матриця на вектор {op}')"
      ],
      "metadata": {
        "colab": {
          "base_uri": "https://localhost:8080/"
        },
        "id": "ZBHi_s7BuJtl",
        "outputId": "a736a476-6114-4970-c9bf-60b9e2a8f631"
      },
      "execution_count": 11,
      "outputs": [
        {
          "output_type": "stream",
          "name": "stdout",
          "text": [
            "[0.11357927 0.17073407 0.02525836]\n",
            "[[0.89000695 0.42124839 0.95823226]\n",
            " [0.51207796 0.11120361 0.39580839]]\n",
            "перемножені матриця на вектор [0.19721117 0.08714516]\n"
          ]
        }
      ]
    },
    {
      "cell_type": "markdown",
      "source": [
        "12 Створіть дві матриці розміром 2x2, заповніть їх випадковими цілими числами в діапазоні від 1 до 10 та виконайте їхнє поелементне множення."
      ],
      "metadata": {
        "id": "DOyLq5unuJ4h"
      }
    },
    {
      "cell_type": "code",
      "source": [
        "rng = np.random.default_rng()\n",
        "r = rng.integers(low=1, high=11, size=(2, 2))\n",
        "s = rng.integers(low=1, high=11, size=(2, 2))\n",
        "sr = s*r\n",
        "print(s)\n",
        "print(r)\n",
        "print(f'поелементне множення {sr}')"
      ],
      "metadata": {
        "colab": {
          "base_uri": "https://localhost:8080/"
        },
        "id": "xScaGAs9uKDd",
        "outputId": "d9b6f3a2-4d0b-4e57-ab69-02824afb0a1a"
      },
      "execution_count": 12,
      "outputs": [
        {
          "output_type": "stream",
          "name": "stdout",
          "text": [
            "[[6 5]\n",
            " [7 4]]\n",
            "[[6 1]\n",
            " [8 9]]\n",
            "поелементне множення [[36  5]\n",
            " [56 36]]\n"
          ]
        }
      ]
    },
    {
      "cell_type": "markdown",
      "source": [
        "13 Cтворіть дві матриці розміром 2x2, заповніть їх випадковими цілими числами в діапазоні від 1 до 10 та знайдіть їх добуток."
      ],
      "metadata": {
        "id": "YBsRC0Ksu6nJ"
      }
    },
    {
      "cell_type": "code",
      "source": [
        "rng = np.random.default_rng()\n",
        "t = rng.integers(low=1, high=11, size=(2, 2))\n",
        "u = rng.integers(low=1, high=11, size=(2, 2))\n",
        "tu = t.dot(u)\n",
        "print(t)\n",
        "print(u)\n",
        "print(f'добуток {tu}')"
      ],
      "metadata": {
        "colab": {
          "base_uri": "https://localhost:8080/"
        },
        "id": "Yswkm9cJu6zo",
        "outputId": "f2a03716-9654-4caf-f072-a31d36eaff3b"
      },
      "execution_count": 13,
      "outputs": [
        {
          "output_type": "stream",
          "name": "stdout",
          "text": [
            "[[5 3]\n",
            " [3 4]]\n",
            "[[4 3]\n",
            " [2 4]]\n",
            "добуток [[26 27]\n",
            " [20 25]]\n"
          ]
        }
      ]
    },
    {
      "cell_type": "markdown",
      "source": [
        "14 Створіть матрицю розміром 5x5, заповніть її випадковими цілими числами в діапазоні від 1 до 100 та знайдіть суму елементів матриці."
      ],
      "metadata": {
        "id": "gWnHkyJZu6_p"
      }
    },
    {
      "cell_type": "code",
      "source": [
        "rng = np.random.default_rng()\n",
        "v = rng.integers(low=1, high=101, size=(5, 5))\n",
        "print(v)\n",
        "print(f'сума елементів матриці {v.sum()}')"
      ],
      "metadata": {
        "colab": {
          "base_uri": "https://localhost:8080/"
        },
        "id": "jh_uKjspu7Jk",
        "outputId": "b01d1644-131f-4eb5-f307-cfa3a54b2b33"
      },
      "execution_count": 14,
      "outputs": [
        {
          "output_type": "stream",
          "name": "stdout",
          "text": [
            "[[67 34 28  3 10]\n",
            " [28 71 16 85 96]\n",
            " [14  6 51 53 31]\n",
            " [54 11 67 24 42]\n",
            " [69 39 29 72 68]]\n",
            "сума елементів матриці 1068\n"
          ]
        }
      ]
    },
    {
      "cell_type": "markdown",
      "source": [
        "15 Створіть дві матриці розміром 4x4, заповніть їх випадковими цілими числами в діапазоні від 1 до 10 та знайдіть їхню різницю."
      ],
      "metadata": {
        "id": "jF_4z8gtvO1S"
      }
    },
    {
      "cell_type": "code",
      "source": [
        "rng = np.random.default_rng()\n",
        "w = rng.integers(low=1, high=11, size=(4, 4))\n",
        "q = rng.integers(low=1, high=11, size=(4, 4))\n",
        "print(w)\n",
        "print(q)\n",
        "print(f'різниця матриць {w-q}')"
      ],
      "metadata": {
        "colab": {
          "base_uri": "https://localhost:8080/"
        },
        "id": "jKmBSL-GvPBW",
        "outputId": "7b382ac7-3323-452d-edc2-ca2c4f1f1fc8"
      },
      "execution_count": 15,
      "outputs": [
        {
          "output_type": "stream",
          "name": "stdout",
          "text": [
            "[[ 8 10  3  7]\n",
            " [ 4  2  9  6]\n",
            " [ 6  9  6  2]\n",
            " [ 6  7  6  8]]\n",
            "[[4 7 3 7]\n",
            " [4 2 4 8]\n",
            " [3 7 7 7]\n",
            " [9 7 7 7]]\n",
            "різниця матриць [[ 4  3  0  0]\n",
            " [ 0  0  5 -2]\n",
            " [ 3  2 -1 -5]\n",
            " [-3  0 -1  1]]\n"
          ]
        }
      ]
    },
    {
      "cell_type": "markdown",
      "source": [
        "16 Створіть матрицю розміром 3x3, заповніть її випадковими дійсними числами в діапазоні від 0 до 1 та знайдіть вектор-стовпчик, що містить суму елементів кожного рядка матриці."
      ],
      "metadata": {
        "id": "hq_NGIwBvPMG"
      }
    },
    {
      "cell_type": "code",
      "source": [
        "rng = np.random.default_rng()\n",
        "x = rng.random(size=(3, 3))\n",
        "print(x)\n",
        "vec_sum = np.array(x.sum(axis=1))\n",
        "revec_sum = vec_sum.reshape((3, 1))\n",
        "print(f' вектор суми елементів рядків {revec_sum}')"
      ],
      "metadata": {
        "colab": {
          "base_uri": "https://localhost:8080/"
        },
        "id": "oNMfkDYqvPWk",
        "outputId": "cb7f3cbf-59bd-42b1-ce94-646f9fb025b3"
      },
      "execution_count": 16,
      "outputs": [
        {
          "output_type": "stream",
          "name": "stdout",
          "text": [
            "[[0.20851571 0.48374867 0.10575431]\n",
            " [0.41991875 0.08555456 0.76586907]\n",
            " [0.78722307 0.74208493 0.46052226]]\n",
            " вектор суми елементів рядків [[0.7980187 ]\n",
            " [1.27134238]\n",
            " [1.98983026]]\n"
          ]
        }
      ]
    },
    {
      "cell_type": "markdown",
      "source": [
        "17 Створіть матрицю розміром 3x4 з довільними цілими числами і створінь матрицю з квадратами цих чисел."
      ],
      "metadata": {
        "id": "-se4rxCOvhvp"
      }
    },
    {
      "cell_type": "code",
      "source": [
        "rng = np.random.default_rng()\n",
        "y = rng.integers(10, size=(3, 4))\n",
        "print(y)\n",
        "y2 = y**2\n",
        "print(f'матриця з квадратами елементів  {y2}')"
      ],
      "metadata": {
        "colab": {
          "base_uri": "https://localhost:8080/"
        },
        "id": "csjbm1ugvh7q",
        "outputId": "7aa66b6a-90a7-4ea0-c009-cdd7c7de2a6a"
      },
      "execution_count": 17,
      "outputs": [
        {
          "output_type": "stream",
          "name": "stdout",
          "text": [
            "[[0 9 4 8]\n",
            " [9 5 4 0]\n",
            " [3 7 3 7]]\n",
            "матриця з квадратами елементів  [[ 0 81 16 64]\n",
            " [81 25 16  0]\n",
            " [ 9 49  9 49]]\n"
          ]
        }
      ]
    },
    {
      "cell_type": "markdown",
      "source": [
        "18 Створіть вектор розміром 4, заповніть його випадковими цілими числами в діапазоні від 1 до 50 та знайдіть вектор з квадратними коренями цих чисел."
      ],
      "metadata": {
        "id": "wbTfYtgOvsjI"
      }
    },
    {
      "cell_type": "code",
      "source": [
        "rng = np.random.default_rng()\n",
        "z = rng.integers(low=1, high=51, size=(4))\n",
        "print(z)\n",
        "z2 = np.sqrt(z)\n",
        "print(f'вектор з коренями елементів  {z2}')"
      ],
      "metadata": {
        "colab": {
          "base_uri": "https://localhost:8080/"
        },
        "id": "zdVv7zn0vsxE",
        "outputId": "fc9ae5ab-2d88-42bb-b0c6-32879dcdb0b6"
      },
      "execution_count": 18,
      "outputs": [
        {
          "output_type": "stream",
          "name": "stdout",
          "text": [
            "[35  3  8 17]\n",
            "вектор з коренями елементів  [5.91607978 1.73205081 2.82842712 4.12310563]\n"
          ]
        }
      ]
    }
  ]
}